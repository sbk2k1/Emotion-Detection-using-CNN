{
  "nbformat": 4,
  "nbformat_minor": 0,
  "metadata": {
    "colab": {
      "name": "Emotion Detection.ipynb",
      "provenance": [],
      "collapsed_sections": []
    },
    "kernelspec": {
      "name": "python3",
      "display_name": "Python 3"
    },
    "language_info": {
      "name": "python"
    },
    "accelerator": "GPU"
  },
  "cells": [
    {
      "cell_type": "markdown",
      "metadata": {
        "id": "h-oRqDicQ8JA"
      },
      "source": [
        "# Importing Basic Packages"
      ]
    },
    {
      "cell_type": "code",
      "metadata": {
        "id": "Jh0jf0VjQ2n2"
      },
      "source": [
        "import numpy as np\n",
        "import cv2\n",
        "import os\n",
        "import tensorflow as tf\n",
        "from keras.models import Sequential\n",
        "from keras.layers import Conv2D, MaxPool2D, Flatten,Dense ,Dropout,BatchNormalization\n",
        "from tensorflow.keras.optimizers import Adam\n",
        "from tensorflow.keras.callbacks import EarlyStopping\n",
        "import matplotlib.pyplot as plt\n",
        "from tensorflow.keras.preprocessing.image import ImageDataGenerator"
      ],
      "execution_count": 1,
      "outputs": []
    },
    {
      "cell_type": "markdown",
      "metadata": {
        "id": "7AwNhPt7RDhY"
      },
      "source": [
        "# Mounting Google Drive"
      ]
    },
    {
      "cell_type": "code",
      "metadata": {
        "colab": {
          "base_uri": "https://localhost:8080/"
        },
        "id": "TG16PoldQ_rA",
        "outputId": "98db814b-9f89-42a4-d080-eef3fc2a26d6"
      },
      "source": [
        "from google.colab import drive\n",
        "drive.mount(\"/content/drive\", force_remount=True)"
      ],
      "execution_count": 2,
      "outputs": [
        {
          "output_type": "stream",
          "name": "stdout",
          "text": [
            "Mounted at /content/drive\n"
          ]
        }
      ]
    },
    {
      "cell_type": "markdown",
      "metadata": {
        "id": "k5Ex29NIRxmJ"
      },
      "source": [
        "# Loading the Data"
      ]
    },
    {
      "cell_type": "code",
      "metadata": {
        "id": "HIfj0jdORTEP"
      },
      "source": [
        "train_dir= '/content/drive/MyDrive/Work/Datasets/Emotion/test'\n",
        "test_dir= '/content/drive/MyDrive/Work/Datasets/Emotion/train'"
      ],
      "execution_count": 6,
      "outputs": []
    },
    {
      "cell_type": "code",
      "metadata": {
        "colab": {
          "base_uri": "https://localhost:8080/"
        },
        "id": "9zpzHPomRwRg",
        "outputId": "b617a478-f78a-49e4-e124-edcce8bee44a"
      },
      "source": [
        "train_data = []\n",
        "train_label = []\n",
        "\n",
        "balance_exp = 3000 \n",
        "batch_size  = 32\n",
        "num_expressions = 6\n",
        "labels = ['Anger', 'Fear', 'Happy', 'Neutral', 'Sad', 'Surprise']\n",
        "\n",
        "print (\"\\nTraining Data Summary\\n\")\n",
        "for each_emotion in os.listdir(train_dir):\n",
        "    if each_emotion!= 'disgusted':\n",
        "        img_count = 0\n",
        "        emotion_dir = os.path.join(train_dir,each_emotion)\n",
        "        \n",
        "        for each_img in os.listdir(emotion_dir):\n",
        "            if img_count<balance_exp:\n",
        "                img = cv2.imread(os.path.join(emotion_dir,each_img),0)\n",
        "                train_data.append(img)\n",
        "                train_label.append(each_emotion)\n",
        "                img_count+=1\n",
        "        print (\"Emotion: {}, Image Count: {}\".format(each_emotion,img_count))\n",
        "\n",
        "test_data = []\n",
        "test_label = []\n",
        "\n",
        "print (\"\\nTesting Data Summary\\n\")\n",
        "for each_emotion in os.listdir(test_dir):\n",
        "    if each_emotion!= 'disgusted':\n",
        "        emotion_dir = os.path.join(test_dir,each_emotion)\n",
        "        img_count = 0\n",
        "        for each_img in os.listdir(emotion_dir):\n",
        "            img = cv2.imread(os.path.join(emotion_dir,each_img),0)\n",
        "            if each_emotion!= 'disgusted':\n",
        "                test_data.append(img)\n",
        "                test_label.append(each_emotion) \n",
        "                img_count+=1\n",
        "        print (\"Emotion: {}, Image Count: {}\".format(each_emotion,img_count))"
      ],
      "execution_count": 7,
      "outputs": [
        {
          "output_type": "stream",
          "name": "stdout",
          "text": [
            "\n",
            "Training Data Summary\n",
            "\n",
            "Emotion: sad, Image Count: 1247\n",
            "Emotion: fearful, Image Count: 1024\n",
            "Emotion: angry, Image Count: 958\n",
            "Emotion: happy, Image Count: 1774\n",
            "Emotion: surprised, Image Count: 831\n",
            "Emotion: neutral, Image Count: 1233\n",
            "\n",
            "Testing Data Summary\n",
            "\n",
            "Emotion: angry, Image Count: 3995\n",
            "Emotion: fearful, Image Count: 4107\n",
            "Emotion: happy, Image Count: 7215\n",
            "Emotion: surprised, Image Count: 3171\n",
            "Emotion: neutral, Image Count: 4965\n",
            "Emotion: sad, Image Count: 4830\n"
          ]
        }
      ]
    },
    {
      "cell_type": "markdown",
      "metadata": {
        "id": "_hB67gegSiJR"
      },
      "source": [
        "# Creating the Model"
      ]
    },
    {
      "cell_type": "code",
      "metadata": {
        "id": "noZ01-tLR3fe"
      },
      "source": [
        "from tensorflow.keras.utils import to_categorical\n",
        "from sklearn.preprocessing import LabelEncoder\n",
        "\n",
        "\n",
        "le = LabelEncoder()\n",
        "train_label = le.fit_transform(train_label)\n",
        "#test_label = le.fit_transform(test_label)\n",
        "\n",
        "train_label = to_categorical(train_label)\n",
        "#test_label = to_categorical(test_label)"
      ],
      "execution_count": 8,
      "outputs": []
    },
    {
      "cell_type": "code",
      "metadata": {
        "id": "T73TeTZnSwc3"
      },
      "source": [
        "train_datagen = ImageDataGenerator(  width_shift_range = 0.1,\n",
        "                                     height_shift_range = 0.1,\n",
        "                                     horizontal_flip = True,\n",
        "                                     rescale = 1./255,\n",
        "                                     zoom_range = 0.2                                 \n",
        "                                        )\n",
        "test_datagen = ImageDataGenerator(rescale = 1./255)"
      ],
      "execution_count": 9,
      "outputs": []
    },
    {
      "cell_type": "code",
      "metadata": {
        "id": "FY4PT0d7VugC"
      },
      "source": [
        "from sklearn.model_selection import train_test_split\n",
        "\n",
        "(trainX, valX, trainY, valY) = train_test_split(train_data, train_label, test_size=0.20, random_state=42)"
      ],
      "execution_count": 10,
      "outputs": []
    },
    {
      "cell_type": "code",
      "metadata": {
        "id": "49Dg6c3Xr_Jn",
        "colab": {
          "base_uri": "https://localhost:8080/"
        },
        "outputId": "4065e519-911e-4009-e6bc-78f8c9344581"
      },
      "source": [
        "trainX = np.asarray(trainX)\n",
        "trainX = np.expand_dims(trainX, axis=3)\n",
        "\n",
        "valX = np.asarray(valX)\n",
        "valX = np.expand_dims(valX, axis=3)\n",
        "\n",
        "#test_data = np.asarray(test_data)\n",
        "\n",
        "print (trainX.shape)\n",
        "print (valX.shape)"
      ],
      "execution_count": 11,
      "outputs": [
        {
          "output_type": "stream",
          "name": "stdout",
          "text": [
            "(5653, 48, 48, 1)\n",
            "(1414, 48, 48, 1)\n"
          ]
        }
      ]
    },
    {
      "cell_type": "code",
      "source": [
        "test_data = np.asarray(test_data)\n",
        "print (test_data.shape)\n",
        "test_data = np.expand_dims(test_data, axis=3)\n",
        "print (test_data.shape)"
      ],
      "metadata": {
        "colab": {
          "base_uri": "https://localhost:8080/"
        },
        "id": "55B0Yxk_XUkx",
        "outputId": "85932e8d-64c2-44bf-8211-89e3b52d43b8"
      },
      "execution_count": 12,
      "outputs": [
        {
          "output_type": "stream",
          "name": "stdout",
          "text": [
            "(28283, 48, 48)\n",
            "(28283, 48, 48, 1)\n"
          ]
        }
      ]
    },
    {
      "cell_type": "code",
      "source": [
        "train_generator = train_datagen.flow(trainX, np.asarray(trainY), batch_size=batch_size)\n",
        "val_generator = train_datagen.flow(valX, np.asarray(valY), batch_size=batch_size)"
      ],
      "metadata": {
        "id": "MHR2oYX5XWYa"
      },
      "execution_count": 13,
      "outputs": []
    },
    {
      "cell_type": "code",
      "source": [
        "def model_definition(num_expressions):\n",
        "    exp_model = Sequential()\n",
        "    exp_model.add(Conv2D(input_shape = (48,48,1), filters=64, kernel_size=(3,3), activation='relu', data_format='channels_last',padding='same'))\n",
        "    exp_model.add(Conv2D(filters=128, kernel_size=(3,3), activation='relu', data_format='channels_last',padding='same'))\n",
        "    #exp_model.add(BatchNormalization())\n",
        "    exp_model.add(MaxPool2D())\n",
        "    #exp_model.add(Dropout(0.5))\n",
        "\n",
        "    exp_model.add(Conv2D(filters=128, kernel_size=(3,3), activation='relu', data_format='channels_last',padding='same'))\n",
        "    #exp_model.add(BatchNormalization())\n",
        "\n",
        "    exp_model.add(Conv2D(filters=256, kernel_size=(3,3), activation='relu', data_format='channels_last',padding='same'))\n",
        "    '''\n",
        "    exp_model.add(Conv2D(filters=256, kernel_size=(3,3), activation='relu', data_format='channels_last',padding='same'))\n",
        "    exp_model.add(BatchNormalization())\n",
        "    exp_model.add(MaxPool2D())\n",
        "    exp_model.add(Dropout(0.5))\n",
        "    '''\n",
        "    exp_model.add(MaxPool2D())\n",
        "\n",
        "    exp_model.add(Flatten())\n",
        "    \n",
        "    # Fully connected layer 1st layer\n",
        "    exp_model.add(Dense(512, activation=\"relu\"))\n",
        "    exp_model.add(BatchNormalization())\n",
        "    #exp_model.add(Activation('relu'))\n",
        "    # Fully connected layer 2nd layer\n",
        "    exp_model.add(Dense(256, activation='relu'))\n",
        "    exp_model.add(BatchNormalization())\n",
        "    #exp_model.add(Activation('relu'))\n",
        "\n",
        "    exp_model.add(Dense(128, activation='relu'))\n",
        "    exp_model.add(Dense(num_expressions, activation=\"softmax\"))\n",
        "\n",
        "    return exp_model\n"
      ],
      "metadata": {
        "id": "UlBpUt_vXXrK"
      },
      "execution_count": 14,
      "outputs": []
    },
    {
      "cell_type": "code",
      "source": [
        "exp_model = model_definition(num_expressions)"
      ],
      "metadata": {
        "id": "ck-Z1iRgXaty"
      },
      "execution_count": 15,
      "outputs": []
    },
    {
      "cell_type": "code",
      "source": [
        "print (\"Model Summary is \\n\")\n",
        "print (exp_model.summary())"
      ],
      "metadata": {
        "colab": {
          "base_uri": "https://localhost:8080/"
        },
        "id": "rtiZZWVyXcTJ",
        "outputId": "6c4a917c-7653-47d9-820e-4047bdd12417"
      },
      "execution_count": 16,
      "outputs": [
        {
          "output_type": "stream",
          "name": "stdout",
          "text": [
            "Model Summary is \n",
            "\n",
            "Model: \"sequential\"\n",
            "_________________________________________________________________\n",
            " Layer (type)                Output Shape              Param #   \n",
            "=================================================================\n",
            " conv2d (Conv2D)             (None, 48, 48, 64)        640       \n",
            "                                                                 \n",
            " conv2d_1 (Conv2D)           (None, 48, 48, 128)       73856     \n",
            "                                                                 \n",
            " max_pooling2d (MaxPooling2D  (None, 24, 24, 128)      0         \n",
            " )                                                               \n",
            "                                                                 \n",
            " conv2d_2 (Conv2D)           (None, 24, 24, 128)       147584    \n",
            "                                                                 \n",
            " conv2d_3 (Conv2D)           (None, 24, 24, 256)       295168    \n",
            "                                                                 \n",
            " max_pooling2d_1 (MaxPooling  (None, 12, 12, 256)      0         \n",
            " 2D)                                                             \n",
            "                                                                 \n",
            " flatten (Flatten)           (None, 36864)             0         \n",
            "                                                                 \n",
            " dense (Dense)               (None, 512)               18874880  \n",
            "                                                                 \n",
            " batch_normalization (BatchN  (None, 512)              2048      \n",
            " ormalization)                                                   \n",
            "                                                                 \n",
            " dense_1 (Dense)             (None, 256)               131328    \n",
            "                                                                 \n",
            " batch_normalization_1 (Batc  (None, 256)              1024      \n",
            " hNormalization)                                                 \n",
            "                                                                 \n",
            " dense_2 (Dense)             (None, 128)               32896     \n",
            "                                                                 \n",
            " dense_3 (Dense)             (None, 6)                 774       \n",
            "                                                                 \n",
            "=================================================================\n",
            "Total params: 19,560,198\n",
            "Trainable params: 19,558,662\n",
            "Non-trainable params: 1,536\n",
            "_________________________________________________________________\n",
            "None\n"
          ]
        }
      ]
    },
    {
      "cell_type": "code",
      "source": [
        "opt = Adam(learning_rate=0.0005)\n",
        "exp_model.compile(optimizer=opt, loss='categorical_crossentropy', metrics=['accuracy'])\n",
        "\n",
        "#define the early stopping\n",
        "es_callback = EarlyStopping(monitor='val_loss', mode='min', verbose=1, patience=15)"
      ],
      "metadata": {
        "id": "2SQwwEKxXe8a"
      },
      "execution_count": 17,
      "outputs": []
    },
    {
      "cell_type": "code",
      "source": [
        "history = exp_model.fit(train_generator,\n",
        "    batch_size = batch_size,\n",
        "    verbose = 1, # Suppress chatty output; use Tensorboard instead\n",
        "    epochs = 1000, #add the validation set to evaluate the performance in each run\n",
        "    validation_data = val_generator,\n",
        "    callbacks = [es_callback]                            \n",
        ") "
      ],
      "metadata": {
        "colab": {
          "base_uri": "https://localhost:8080/"
        },
        "id": "pGnWc7JUXijZ",
        "outputId": "e775e9d2-4817-40d2-c7e8-d65c52c8a28c"
      },
      "execution_count": 18,
      "outputs": [
        {
          "output_type": "stream",
          "name": "stdout",
          "text": [
            "Epoch 1/1000\n",
            "177/177 [==============================] - 20s 57ms/step - loss: 1.8224 - accuracy: 0.2468 - val_loss: 1.7753 - val_accuracy: 0.2489\n",
            "Epoch 2/1000\n",
            "177/177 [==============================] - 9s 52ms/step - loss: 1.7571 - accuracy: 0.2738 - val_loss: 2.3436 - val_accuracy: 0.2298\n",
            "Epoch 3/1000\n",
            "177/177 [==============================] - 9s 51ms/step - loss: 1.7213 - accuracy: 0.2899 - val_loss: 2.2115 - val_accuracy: 0.1372\n",
            "Epoch 4/1000\n",
            "177/177 [==============================] - 9s 52ms/step - loss: 1.6795 - accuracy: 0.3101 - val_loss: 1.7912 - val_accuracy: 0.2751\n",
            "Epoch 5/1000\n",
            "177/177 [==============================] - 9s 52ms/step - loss: 1.6685 - accuracy: 0.3204 - val_loss: 1.6862 - val_accuracy: 0.3204\n",
            "Epoch 6/1000\n",
            "177/177 [==============================] - 9s 52ms/step - loss: 1.6292 - accuracy: 0.3425 - val_loss: 1.8873 - val_accuracy: 0.2207\n",
            "Epoch 7/1000\n",
            "177/177 [==============================] - 9s 52ms/step - loss: 1.5888 - accuracy: 0.3692 - val_loss: 1.6284 - val_accuracy: 0.3685\n",
            "Epoch 8/1000\n",
            "177/177 [==============================] - 9s 52ms/step - loss: 1.5515 - accuracy: 0.3839 - val_loss: 1.6456 - val_accuracy: 0.3423\n",
            "Epoch 9/1000\n",
            "177/177 [==============================] - 9s 52ms/step - loss: 1.4967 - accuracy: 0.4116 - val_loss: 1.6254 - val_accuracy: 0.3352\n",
            "Epoch 10/1000\n",
            "177/177 [==============================] - 9s 52ms/step - loss: 1.4644 - accuracy: 0.4215 - val_loss: 1.7355 - val_accuracy: 0.3133\n",
            "Epoch 11/1000\n",
            "177/177 [==============================] - 9s 52ms/step - loss: 1.4260 - accuracy: 0.4401 - val_loss: 1.5639 - val_accuracy: 0.3564\n",
            "Epoch 12/1000\n",
            "177/177 [==============================] - 9s 52ms/step - loss: 1.3918 - accuracy: 0.4511 - val_loss: 1.7154 - val_accuracy: 0.3614\n",
            "Epoch 13/1000\n",
            "177/177 [==============================] - 9s 52ms/step - loss: 1.3525 - accuracy: 0.4682 - val_loss: 1.4862 - val_accuracy: 0.4321\n",
            "Epoch 14/1000\n",
            "177/177 [==============================] - 9s 52ms/step - loss: 1.3238 - accuracy: 0.4808 - val_loss: 1.4553 - val_accuracy: 0.4293\n",
            "Epoch 15/1000\n",
            "177/177 [==============================] - 9s 52ms/step - loss: 1.3083 - accuracy: 0.4868 - val_loss: 1.3981 - val_accuracy: 0.4576\n",
            "Epoch 16/1000\n",
            "177/177 [==============================] - 9s 53ms/step - loss: 1.2805 - accuracy: 0.4927 - val_loss: 1.4670 - val_accuracy: 0.4349\n",
            "Epoch 17/1000\n",
            "176/177 [============================>.] - ETA: 0s - loss: 1.2577 - accuracy: 0.5086Epoch 18/1000\n",
            "177/177 [==============================] - 9s 52ms/step - loss: 1.2234 - accuracy: 0.5215 - val_loss: 1.4253 - val_accuracy: 0.4413\n",
            "Epoch 19/1000\n",
            "177/177 [==============================] - 9s 52ms/step - loss: 1.1940 - accuracy: 0.5351 - val_loss: 1.3488 - val_accuracy: 0.4752\n",
            "Epoch 20/1000\n",
            "177/177 [==============================] - 9s 52ms/step - loss: 1.1846 - accuracy: 0.5342 - val_loss: 1.2882 - val_accuracy: 0.5007\n",
            "Epoch 21/1000\n",
            "177/177 [==============================] - 9s 52ms/step - loss: 1.1513 - accuracy: 0.5544 - val_loss: 1.3390 - val_accuracy: 0.4774\n",
            "Epoch 22/1000\n",
            "177/177 [==============================] - 9s 52ms/step - loss: 1.1428 - accuracy: 0.5555 - val_loss: 1.3268 - val_accuracy: 0.4943\n",
            "Epoch 23/1000\n",
            "177/177 [==============================] - 9s 52ms/step - loss: 1.1091 - accuracy: 0.5721 - val_loss: 1.3037 - val_accuracy: 0.5099\n",
            "Epoch 24/1000\n",
            "177/177 [==============================] - 9s 52ms/step - loss: 1.1238 - accuracy: 0.5691 - val_loss: 1.2803 - val_accuracy: 0.5106\n",
            "Epoch 25/1000\n",
            "177/177 [==============================] - 9s 52ms/step - loss: 1.0985 - accuracy: 0.5666 - val_loss: 1.3266 - val_accuracy: 0.4972\n",
            "Epoch 26/1000\n",
            "177/177 [==============================] - 9s 51ms/step - loss: 1.0765 - accuracy: 0.5854 - val_loss: 1.3397 - val_accuracy: 0.4781\n",
            "Epoch 27/1000\n",
            "177/177 [==============================] - 9s 51ms/step - loss: 1.0682 - accuracy: 0.5915 - val_loss: 1.4452 - val_accuracy: 0.4576\n",
            "Epoch 28/1000\n",
            "177/177 [==============================] - 9s 51ms/step - loss: 1.0454 - accuracy: 0.5977 - val_loss: 1.2904 - val_accuracy: 0.5050\n",
            "Epoch 29/1000\n",
            "177/177 [==============================] - 9s 52ms/step - loss: 1.0343 - accuracy: 0.6045 - val_loss: 1.3096 - val_accuracy: 0.5106\n",
            "Epoch 30/1000\n",
            "177/177 [==============================] - 9s 51ms/step - loss: 1.0074 - accuracy: 0.6133 - val_loss: 1.3416 - val_accuracy: 0.4922\n",
            "Epoch 31/1000\n",
            "177/177 [==============================] - 9s 51ms/step - loss: 0.9915 - accuracy: 0.6175 - val_loss: 1.2914 - val_accuracy: 0.5156\n",
            "Epoch 32/1000\n",
            "177/177 [==============================] - 9s 52ms/step - loss: 0.9883 - accuracy: 0.6276 - val_loss: 1.3115 - val_accuracy: 0.5035\n",
            "Epoch 33/1000\n",
            "177/177 [==============================] - 9s 52ms/step - loss: 0.9613 - accuracy: 0.6358 - val_loss: 1.4329 - val_accuracy: 0.4837\n",
            "Epoch 34/1000\n",
            "177/177 [==============================] - 9s 52ms/step - loss: 0.9525 - accuracy: 0.6404 - val_loss: 1.2732 - val_accuracy: 0.5205\n",
            "Epoch 35/1000\n",
            "177/177 [==============================] - 9s 53ms/step - loss: 0.9531 - accuracy: 0.6312 - val_loss: 1.3663 - val_accuracy: 0.4901\n",
            "Epoch 36/1000\n",
            "177/177 [==============================] - 9s 52ms/step - loss: 0.9156 - accuracy: 0.6473 - val_loss: 1.3083 - val_accuracy: 0.5134\n",
            "Epoch 37/1000\n",
            "177/177 [==============================] - 9s 52ms/step - loss: 0.9092 - accuracy: 0.6542 - val_loss: 1.2739 - val_accuracy: 0.5311\n",
            "Epoch 38/1000\n",
            "177/177 [==============================] - 9s 52ms/step - loss: 0.8795 - accuracy: 0.6733 - val_loss: 1.3823 - val_accuracy: 0.5064\n",
            "Epoch 39/1000\n",
            "177/177 [==============================] - 9s 52ms/step - loss: 0.8731 - accuracy: 0.6680 - val_loss: 1.3327 - val_accuracy: 0.5226\n",
            "Epoch 40/1000\n",
            "177/177 [==============================] - 9s 52ms/step - loss: 0.8423 - accuracy: 0.6803 - val_loss: 1.3554 - val_accuracy: 0.5106\n",
            "Epoch 41/1000\n",
            "177/177 [==============================] - 9s 52ms/step - loss: 0.8568 - accuracy: 0.6795 - val_loss: 1.3277 - val_accuracy: 0.5184\n",
            "Epoch 42/1000\n",
            "177/177 [==============================] - 9s 52ms/step - loss: 0.8366 - accuracy: 0.6830 - val_loss: 1.3392 - val_accuracy: 0.5184\n",
            "Epoch 43/1000\n",
            "177/177 [==============================] - 9s 52ms/step - loss: 0.8147 - accuracy: 0.6906 - val_loss: 1.4237 - val_accuracy: 0.4915\n",
            "Epoch 44/1000\n",
            "177/177 [==============================] - 9s 53ms/step - loss: 0.8086 - accuracy: 0.6947 - val_loss: 1.3678 - val_accuracy: 0.5042\n",
            "Epoch 45/1000\n",
            "177/177 [==============================] - 9s 51ms/step - loss: 0.7823 - accuracy: 0.7060 - val_loss: 1.3883 - val_accuracy: 0.5149\n",
            "Epoch 46/1000\n",
            "177/177 [==============================] - 9s 52ms/step - loss: 0.7941 - accuracy: 0.7044 - val_loss: 1.3410 - val_accuracy: 0.5424\n",
            "Epoch 47/1000\n",
            "177/177 [==============================] - 9s 52ms/step - loss: 0.7500 - accuracy: 0.7247 - val_loss: 1.3797 - val_accuracy: 0.5269\n",
            "Epoch 48/1000\n",
            "177/177 [==============================] - 9s 53ms/step - loss: 0.7397 - accuracy: 0.7269 - val_loss: 1.4103 - val_accuracy: 0.5191\n",
            "Epoch 49/1000\n",
            "177/177 [==============================] - 9s 52ms/step - loss: 0.7332 - accuracy: 0.7244 - val_loss: 1.4391 - val_accuracy: 0.5028\n",
            "Epoch 00049: early stopping\n"
          ]
        }
      ]
    },
    {
      "cell_type": "code",
      "source": [
        "acc = history.history['accuracy'] # get history report of the model\n",
        "val_acc = history.history['val_accuracy'] # get history of the validation set\n",
        "\n",
        "loss = history.history['loss'] #get the history of the lossses recorded on the train set\n",
        "val_loss = history.history['val_loss'] #get the history of the lossses recorded on the validation set\n",
        "\n",
        "fig,ax = plt.subplots(1,2)\n",
        "fig.set_size_inches(12,4)\n",
        "\n",
        "ax[0].plot(acc, label='Training Accuracy') #plot accuracy curve for each train run\n",
        "ax[0].plot(val_acc, label='Validation Accuracy') #plot accuracy curve for each validation run\n",
        "\n",
        "ax[0].legend(loc='lower right')\n",
        "ax[0].set_ylabel('Accuracy') #label name for y axis\n",
        "ax[0].set_title('Training and Validation Accuracy') #set title for the plot\n",
        "\n",
        "\n",
        "ax[1].plot(loss, label='Training Loss') #plot accuracy curve for each train run\n",
        "ax[1].plot(val_loss, label='Validation Loss') #plot accuracy curve for each validation run\n",
        "\n",
        "ax[1].legend(loc='lower right')\n",
        "ax[1].set_ylabel('Loss') #label name for y axis\n",
        "ax[1].set_title('Training and Validation Loss') #set title for the plot"
      ],
      "metadata": {
        "colab": {
          "base_uri": "https://localhost:8080/",
          "height": 298
        },
        "id": "Uysz_3fzXlMZ",
        "outputId": "d4c0f140-9ccf-4a71-923e-1510fbb0c5ad"
      },
      "execution_count": 19,
      "outputs": [
        {
          "output_type": "execute_result",
          "data": {
            "text/plain": [
              "Text(0.5, 1.0, 'Training and Validation Loss')"
            ]
          },
          "metadata": {},
          "execution_count": 19
        },
        {
          "output_type": "display_data",
          "data": {
            "image/png": "[encoded data removed]",
            "text/plain": [
              "<Figure size 864x288 with 2 Axes>"
            ]
          },
          "metadata": {
            "needs_background": "light"
          }
        }
      ]
    },
    {
      "cell_type": "code",
      "source": [
        "from sklearn.metrics import classification_report, confusion_matrix\n",
        "from sklearn.metrics import ConfusionMatrixDisplay\n",
        "\n",
        "le = LabelEncoder()\n",
        "test_labels = le.fit_transform(test_label)\n",
        "#test_label = le.fit_transform(test_label)\n",
        "\n",
        "test_labels = to_categorical(test_labels)\n",
        "\n",
        "test_generator = test_datagen.flow(test_data, np.asarray(test_labels),batch_size=batch_size)"
      ],
      "metadata": {
        "id": "isuPCvJHZk44"
      },
      "execution_count": 23,
      "outputs": []
    },
    {
      "cell_type": "code",
      "source": [
        "exp_model.evaluate(test_generator)\n",
        "exp_model.save('/content/drive/MyDrive/Work/Datasets/Emotion/exp_det.h5')\n",
        "\n",
        "test_predictions = exp_model.predict(test_generator)\n",
        "print (\"Test Prediction done!\\n\")\n",
        "test_predictions = np.argmax(test_predictions,axis=1)\n",
        "\n",
        "print (\"test_predictions:\\t\", test_predictions)\n",
        "#test_label = label_dict.index(test_label)\n",
        "\n",
        "'''\n",
        "for each_label in test_label:\n",
        "    print (\"each_label:\\t\", each_label)\n",
        "    test_label_index = test_label.index(each_label)    \n",
        "    if each_label == 'angry':\n",
        "        label = 0\n",
        "    elif each_label == 'fearful':\n",
        "        label = 1\n",
        "    elif each_label == 'happy':\n",
        "        label = 2  \n",
        "    elif each_label == 'neutral':\n",
        "        label = 3         \n",
        "    elif each_label == 'sad':\n",
        "        label = 4 \n",
        "    elif each_label == 'surprised':\n",
        "        label = 5         \n",
        "        test_label[test_label_index] = label\n",
        "for a in list(test_labels):\n",
        "    print (a)\n",
        "''' \n",
        "    \n",
        "print (\"test_label:\\t\", type(test_labels))\n",
        "test_labels = list(test_labels)\n",
        "test_labels = np.argmax(test_labels, axis=1)\n",
        "cm = confusion_matrix(test_labels, test_predictions)\n",
        "#print (cm)\n",
        "print('Classification Report')\n",
        "\n",
        "\n",
        "print(classification_report(test_labels, test_predictions))\n",
        "print ('DONE') \n",
        "print('\\nConfusion Matrix')\n",
        "disp = ConfusionMatrixDisplay(confusion_matrix=cm, display_labels=labels)\n",
        "\n",
        "disp.plot(cmap=plt.cm.Blues)\n",
        "plt.show()"
      ],
      "metadata": {
        "colab": {
          "base_uri": "https://localhost:8080/",
          "height": 662
        },
        "id": "hvFWhCYyZu1n",
        "outputId": "91c32e52-8674-4bf9-b676-7ad30a746383"
      },
      "execution_count": 24,
      "outputs": [
        {
          "output_type": "stream",
          "name": "stdout",
          "text": [
            "884/884 [==============================] - 14s 16ms/step - loss: 1.3776 - accuracy: 0.5384\n",
            "Test Prediction done!\n",
            "\n",
            "test_predictions:\t [0 2 2 ... 5 2 0]\n",
            "test_label:\t <class 'numpy.ndarray'>\n",
            "Classification Report\n",
            "              precision    recall  f1-score   support\n",
            "\n",
            "           0       0.15      0.12      0.13      3995\n",
            "           1       0.14      0.20      0.17      4107\n",
            "           2       0.26      0.25      0.26      7215\n",
            "           3       0.18      0.18      0.18      4965\n",
            "           4       0.18      0.13      0.15      4830\n",
            "           5       0.11      0.12      0.11      3171\n",
            "\n",
            "    accuracy                           0.18     28283\n",
            "   macro avg       0.17      0.17      0.17     28283\n",
            "weighted avg       0.18      0.18      0.18     28283\n",
            "\n",
            "DONE\n",
            "\n",
            "Confusion Matrix\n"
          ]
        },
        {
          "output_type": "display_data",
          "data": {
            "image/png": "[encoded data removed]",
            "text/plain": [
              "<Figure size 432x288 with 2 Axes>"
            ]
          },
          "metadata": {
            "needs_background": "light"
          }
        }
      ]
    }
  ]
}